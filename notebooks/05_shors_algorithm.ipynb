
{
 "cells": [
  {"cell_type":"markdown","metadata":{},"source":["# Shor's Algorithm (Educational Demo for N=15)"]},
  {"cell_type":"code","metadata":{},"source":["from src.circuits import demo_shor_educational\n","demo_shor_educational(15)"],"execution_count":null,"outputs":[]}
 ],
 "metadata":{"kernelspec":{"display_name":"Python 3","language":"python","name":"python3"}},
 "nbformat":4,"nbformat_minor":5
}
