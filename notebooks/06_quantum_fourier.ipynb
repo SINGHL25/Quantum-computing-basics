
{
 "cells": [
  {"cell_type":"markdown","metadata":{},"source":["# Quantum Fourier Transform"]},
  {"cell_type":"code","metadata":{},"source":["from src.circuits import demo_qft\n","demo_qft(3)"],"execution_count":null,"outputs":[]}
 ],
 "metadata":{"kernelspec":{"display_name":"Python 3","language":"python","name":"python3"}},
 "nbformat":4,"nbformat_minor":5
}
