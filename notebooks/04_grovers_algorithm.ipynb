
{
 "cells": [
  {"cell_type":"markdown","metadata":{},"source":["# Grover's Algorithm (2-qubit toy)"]},
  {"cell_type":"code","metadata":{},"source":["from src.circuits import demo_grover_2qubit_oracle_target_11\n","demo_grover_2qubit_oracle_target_11()"],"execution_count":null,"outputs":[]}
 ],
 "metadata":{"kernelspec":{"display_name":"Python 3","language":"python","name":"python3"}},
 "nbformat":4,"nbformat_minor":5
}
