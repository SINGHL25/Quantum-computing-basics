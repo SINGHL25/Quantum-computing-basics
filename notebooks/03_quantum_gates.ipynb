
{
 "cells": [
  {"cell_type":"markdown","metadata":{},"source":["# Quantum Gates"]},
  {"cell_type":"code","metadata":{},"source":["from src.circuits import demo_single_qubit\n","demo_single_qubit()"],"execution_count":null,"outputs":[]}
 ],
 "metadata":{"kernelspec":{"display_name":"Python 3","language":"python","name":"python3"}},
 "nbformat":4,"nbformat_minor":5
}
